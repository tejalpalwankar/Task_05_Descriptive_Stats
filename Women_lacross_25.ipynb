{
 "cells": [
  {
   "cell_type": "code",
   "execution_count": 1,
   "id": "99784cbc",
   "metadata": {},
   "outputs": [],
   "source": [
    "import pandas as pd\n",
    "\n",
    "# Load the data from your CSV files\n",
    "players = pd.read_csv(\"Player_Statistics.csv\")\n",
    "goals = pd.read_csv(\"Goals_Statistics.csv\")\n",
    "schedule = pd.read_csv(\"Schedule.csv\")\n",
    "team_stats = pd.read_csv(\"Team_Statistics.csv\")\n"
   ]
  },
  {
   "cell_type": "code",
   "execution_count": 2,
   "id": "0519b3c5",
   "metadata": {},
   "outputs": [
    {
     "name": "stdout",
     "output_type": "stream",
     "text": [
      "Total games played: 19\n"
     ]
    }
   ],
   "source": [
    "#A. How many games did the team play?\n",
    "# From the schedule\n",
    "num_games = len(schedule)\n",
    "print(\"Total games played:\", num_games)\n"
   ]
  },
  {
   "cell_type": "code",
   "execution_count": 3,
   "id": "6ef767d1",
   "metadata": {},
   "outputs": [
    {
     "name": "stdout",
     "output_type": "stream",
     "text": [
      "Top goal scorer: 5 Muchnick, Emma - 34 goals\n"
     ]
    }
   ],
   "source": [
    "#B. Who scored the most goals?\n",
    "# Remove summary rows first (like 'Totals'/'Opponents')\n",
    "players_subset = players[~players['Player'].str.contains('Totals|Opponents|TM Team', na=False)]\n",
    "top_scorer = players_subset.loc[players_subset['G'].astype(int).idxmax()]\n",
    "print(\"Top goal scorer:\", top_scorer[\"Player\"], \"-\", top_scorer[\"G\"], \"goals\")\n"
   ]
  },
  {
   "cell_type": "code",
   "execution_count": 4,
   "id": "5adc09d2",
   "metadata": {},
   "outputs": [
    {
     "name": "stdout",
     "output_type": "stream",
     "text": [
      "Most assists: 44 Ward, Emma - 46 assists\n"
     ]
    }
   ],
   "source": [
    "#C. Who had the most assists?\n",
    "top_assist = players_subset.loc[players_subset['A'].astype(int).idxmax()]\n",
    "print(\"Most assists:\", top_assist[\"Player\"], \"-\", top_assist[\"A\"], \"assists\")\n"
   ]
  },
  {
   "cell_type": "code",
   "execution_count": 5,
   "id": "cbcc3272",
   "metadata": {},
   "outputs": [
    {
     "name": "stdout",
     "output_type": "stream",
     "text": [
      "Most points: 44 Ward, Emma - 76 points\n"
     ]
    }
   ],
   "source": [
    "#D. Who contributed the most points?\n",
    "top_pts = players_subset.loc[players_subset['PTS'].astype(int).idxmax()]\n",
    "print(\"Most points:\", top_pts[\"Player\"], \"-\", top_pts[\"PTS\"], \"points\")\n"
   ]
  },
  {
   "cell_type": "code",
   "execution_count": 6,
   "id": "810097d9",
   "metadata": {},
   "outputs": [
    {
     "name": "stdout",
     "output_type": "stream",
     "text": [
      "Team totals — Goals: 234 Assists: 112 Points: 346\n"
     ]
    }
   ],
   "source": [
    "#E. What are the team totals for Goals, Assists, Points?\n",
    "total_goals = players_subset['G'].astype(int).sum()\n",
    "total_assists = players_subset['A'].astype(int).sum()\n",
    "total_pts = players_subset['PTS'].astype(int).sum()\n",
    "print(\"Team totals — Goals:\", total_goals, \"Assists:\", total_assists, \"Points:\", total_pts)\n"
   ]
  },
  {
   "cell_type": "code",
   "execution_count": 7,
   "id": "d2f233b6",
   "metadata": {
    "scrolled": true
   },
   "outputs": [
    {
     "data": {
      "image/png": "[encoded data removed]",
      "text/plain": [
       "<Figure size 720x360 with 1 Axes>"
      ]
     },
     "metadata": {
      "needs_background": "light"
     },
     "output_type": "display_data"
    }
   ],
   "source": [
    "#F. Visualize Goals by Player\n",
    "import matplotlib.pyplot as plt\n",
    "\n",
    "# Top 10 goal scorers for readability\n",
    "top10 = players_subset.sort_values(\"G\", ascending=False).head(10)\n",
    "plt.figure(figsize=(10,5))\n",
    "plt.bar(top10[\"Player\"], top10[\"G\"].astype(int))\n",
    "plt.xlabel(\"Player\")\n",
    "plt.ylabel(\"Goals\")\n",
    "plt.title(\"Top 10 Goal Scorers - SU Women's Lacrosse 2025\")\n",
    "plt.xticks(rotation=45, ha=\"right\")\n",
    "plt.tight_layout()\n",
    "plt.show()\n"
   ]
  },
  {
   "cell_type": "code",
   "execution_count": 9,
   "id": "8d219b18",
   "metadata": {},
   "outputs": [
    {
     "name": "stdout",
     "output_type": "stream",
     "text": [
      "Most efficient scorer:             Player  G_per_SH\n",
      "11  72 DeVito, Sam  0.666667\n"
     ]
    }
   ],
   "source": [
    "#G Most Efficient Scorer (Goals per Shot, min N shots)\n",
    "\n",
    "players_subset = players[~players['Player'].str.contains('Totals|Opponents|TM Team', na=False)]\n",
    "players_subset = players_subset[players_subset['SH'].astype(int) > 10]  # e.g., minimum 10 shots\n",
    "players_subset['G_per_SH'] = players_subset['G'].astype(int) / players_subset['SH'].astype(int)\n",
    "eff_scorer = players_subset.sort_values('G_per_SH', ascending=False).head(1)\n",
    "print(\"Most efficient scorer:\", eff_scorer[['Player', 'G_per_SH']])\n"
   ]
  },
  {
   "cell_type": "code",
   "execution_count": 10,
   "id": "002c4835",
   "metadata": {},
   "outputs": [
    {
     "name": "stdout",
     "output_type": "stream",
     "text": [
      "Highest GB per game:              Player  GB_per_GP\n",
      "2  5 Muchnick, Emma   1.421053\n",
      "Highest DC per game:                 Player  DC_per_GP\n",
      "6  33 Caramelli, Joely   2.052632\n"
     ]
    }
   ],
   "source": [
    "#H Largest Impact on Draws or Ground Balls (Per Game)\n",
    "players_subset['GB_per_GP'] = players_subset['GB'].astype(int) / players_subset['GP'].astype(int)\n",
    "players_subset['DC_per_GP'] = players_subset['DC'].astype(int) / players_subset['GP'].astype(int)\n",
    "\n",
    "gb_leader = players_subset.sort_values('GB_per_GP', ascending=False).head(1)\n",
    "dc_leader = players_subset.sort_values('DC_per_GP', ascending=False).head(1)\n",
    "\n",
    "print(\"Highest GB per game:\", gb_leader[['Player', 'GB_per_GP']])\n",
    "print(\"Highest DC per game:\", dc_leader[['Player', 'DC_per_GP']])\n"
   ]
  },
  {
   "cell_type": "code",
   "execution_count": 11,
   "id": "897dac3a",
   "metadata": {},
   "outputs": [
    {
     "name": "stdout",
     "output_type": "stream",
     "text": [
      "                   Player  TO_per_GP\n",
      "0           44 Ward, Emma   2.157895\n",
      "1   24 Trinkaus, Caroline   0.842105\n",
      "2        5 Muchnick, Emma   1.631579\n",
      "3      19 Britton, Gracie   0.842105\n",
      "4      11 Vogelman, Alexa   1.421053\n",
      "5      47 Cotter, Mileena   1.368421\n",
      "6     33 Caramelli, Joely   0.421053\n",
      "7         22 Guzik, Molly   0.736842\n",
      "10    18 Desimone, Carlie   0.466667\n",
      "11         72 DeVito, Sam   0.578947\n",
      "12       12 Parker, Annie   0.266667\n"
     ]
    },
    {
     "name": "stderr",
     "output_type": "stream",
     "text": [
      "C:\\Users\\DELL\\AppData\\Local\\Temp/ipykernel_20044/1469870710.py:3: SettingWithCopyWarning: \n",
      "A value is trying to be set on a copy of a slice from a DataFrame.\n",
      "Try using .loc[row_indexer,col_indexer] = value instead\n",
      "\n",
      "See the caveats in the documentation: https://pandas.pydata.org/pandas-docs/stable/user_guide/indexing.html#returning-a-view-versus-a-copy\n",
      "  starters['TO_per_GP'] = starters['TO'].astype(int) / starters['GP'].astype(int)\n"
     ]
    }
   ],
   "source": [
    "#J Turnover Rate per Game for Starters\n",
    "starters = players_subset[players_subset['GP'].astype(int) >= 15]\n",
    "starters['TO_per_GP'] = starters['TO'].astype(int) / starters['GP'].astype(int)\n",
    "print(starters[['Player', 'TO_per_GP']])\n"
   ]
  },
  {
   "cell_type": "code",
   "execution_count": 12,
   "id": "a9783768",
   "metadata": {},
   "outputs": [
    {
     "name": "stdout",
     "output_type": "stream",
     "text": [
      "Most clutch player (GW goals):                   Player  GW\n",
      "1  24 Trinkaus, Caroline   4\n"
     ]
    }
   ],
   "source": [
    "# Most Clutch Player (Most Game-Winning Goals)\n",
    "clutch = players_subset.sort_values('GW', ascending=False).head(1)\n",
    "print(\"Most clutch player (GW goals):\", clutch[['Player', 'GW']])\n"
   ]
  },
  {
   "cell_type": "code",
   "execution_count": 13,
   "id": "bec0dbb0",
   "metadata": {},
   "outputs": [
    {
     "name": "stdout",
     "output_type": "stream",
     "text": [
      "Best defensive impact (CT - TO per game):                 Player  CT_minus_TO_per_GP\n",
      "6  33 Caramelli, Joely            0.157895\n"
     ]
    }
   ],
   "source": [
    "#Best Defensive Impact (Caused Turnovers per Game minus Turnovers)\n",
    "\n",
    "players_subset['CT_minus_TO'] = players_subset['CT'].astype(int) - players_subset['TO'].astype(int)\n",
    "players_subset['CT_minus_TO_per_GP'] = players_subset['CT_minus_TO'] / players_subset['GP'].astype(int)\n",
    "def_impact = players_subset.sort_values('CT_minus_TO_per_GP', ascending=False).head(1)\n",
    "print(\"Best defensive impact (CT - TO per game):\", def_impact[['Player', 'CT_minus_TO_per_GP']])\n"
   ]
  },
  {
   "cell_type": "code",
   "execution_count": null,
   "id": "e3b48df5",
   "metadata": {},
   "outputs": [],
   "source": []
  }
 ],
 "metadata": {
  "kernelspec": {
   "display_name": "Python 3 (ipykernel)",
   "language": "python",
   "name": "python3"
  },
  "language_info": {
   "codemirror_mode": {
    "name": "ipython",
    "version": 3
   },
   "file_extension": ".py",
   "mimetype": "text/x-python",
   "name": "python",
   "nbconvert_exporter": "python",
   "pygments_lexer": "ipython3",
   "version": "3.10.4"
  }
 },
 "nbformat": 4,
 "nbformat_minor": 5
}
